{
 "cells": [
  {
   "cell_type": "code",
   "execution_count": 79,
   "metadata": {},
   "outputs": [],
   "source": [
    "import numpy as np\n",
    "import pandas as pd\n",
    "import matplotlib.pyplot as plt\n",
    "import matplotlib\n",
    "import time\n",
    "\n",
    "from scipy.stats import shapiro  # null hypothesis is data is normally distributed"
   ]
  },
  {
   "cell_type": "code",
   "execution_count": 2,
   "metadata": {},
   "outputs": [],
   "source": [
    "cnv = pd.read_csv(r'../../data/cnv.csv').drop(columns=\"Unnamed: 0\")"
   ]
  },
  {
   "cell_type": "code",
   "execution_count": 62,
   "metadata": {},
   "outputs": [],
   "source": [
    "labels = pd.read_csv(r'../../data/labels.csv').drop(columns=\"Unnamed: 0\")"
   ]
  },
  {
   "cell_type": "code",
   "execution_count": 63,
   "metadata": {},
   "outputs": [],
   "source": [
    "cnv.sort_values(by=\"PTID\", ignore_index=True, inplace=True)\n",
    "labels.sort_values(by=\"PTID\", ignore_index=True, inplace=True)"
   ]
  },
  {
   "cell_type": "code",
   "execution_count": 67,
   "metadata": {},
   "outputs": [
    {
     "data": {
      "text/plain": [
       "642"
      ]
     },
     "execution_count": 67,
     "metadata": {},
     "output_type": "execute_result"
    }
   ],
   "source": [
    "sum(labels['PTID'] == cnv['PTID'])"
   ]
  },
  {
   "cell_type": "code",
   "execution_count": 82,
   "metadata": {},
   "outputs": [],
   "source": [
    "data = cnv.filter(regex='HighQual').to_numpy()\n",
    "targets = np.array([0 if dx == 'CN' else 1 for dx in labels['DX_bl']])\n",
    "\n",
    "mci_idx = np.where(targets == 1)[0]\n",
    "cn_idx = np.where(targets == 0)[0]\n",
    "# data.argmax(axis=1)  # columns 15881 and 14889\n",
    "# data = data_class_class[:, np.where(data >= 4)[1]]"
   ]
  },
  {
   "cell_type": "code",
   "execution_count": 41,
   "metadata": {},
   "outputs": [],
   "source": [
    "not_norm_idx = []\n",
    "for i in range(data.shape[1]):\n",
    "    _, pval = shapiro(data[:, i].ravel())\n",
    "    if pval < 0.05:\n",
    "        not_norm_idx.append(i)"
   ]
  },
  {
   "cell_type": "code",
   "execution_count": 45,
   "metadata": {},
   "outputs": [
    {
     "name": "stdout",
     "output_type": "stream",
     "text": [
      "100003\n",
      "100645\n"
     ]
    }
   ],
   "source": [
    "print(len(not_norm_idx))\n",
    "print(data.shape[1])"
   ]
  },
  {
   "cell_type": "code",
   "execution_count": null,
   "metadata": {},
   "outputs": [],
   "source": [
    "# data_not_norm = "
   ]
  },
  {
   "cell_type": "code",
   "execution_count": 91,
   "metadata": {},
   "outputs": [
    {
     "data": {
      "image/png": "[encoded data removed]",
      "text/plain": [
       "<Figure size 640x480 with 1 Axes>"
      ]
     },
     "metadata": {},
     "output_type": "display_data"
    }
   ],
   "source": [
    "feature = 15881\n",
    "max_bins = 20\n",
    "data_class = data[mci_idx, :]\n",
    "\n",
    "# (880, -560) to (895, 545)\n",
    "\n",
    "bins = max_bins if max_bins < np.arange(data_class[:, feature].ravel().max() + 2).shape[0] else np.arange(data_class[:, feature].ravel().max() + 2)\n",
    "\n",
    "# print(np.histogram(data_class[:, feature].ravel(), bins=np.arange(data_class[:, feature].ravel().max() + 2)))\n",
    "plt.hist(data_class[:, feature].ravel(), bins=bins)\n",
    "\n",
    "if np.arange(data_class[:, feature].ravel().max() + 2).shape[0] < plt.xticks()[0].shape[0]:\n",
    "    plt.xticks(np.arange(data_class[:, feature].ravel().max() + 2))\n"
   ]
  },
  {
   "cell_type": "code",
   "execution_count": 89,
   "metadata": {},
   "outputs": [
    {
     "data": {
      "text/plain": [
       "(421, 18210)"
      ]
     },
     "execution_count": 89,
     "metadata": {},
     "output_type": "execute_result"
    }
   ],
   "source": [
    "\n",
    "data_class.shape"
   ]
  },
  {
   "cell_type": "code",
   "execution_count": 94,
   "metadata": {},
   "outputs": [
    {
     "data": {
      "image/png": "[encoded data removed]",
      "text/plain": [
       "<Figure size 640x480 with 1 Axes>"
      ]
     },
     "metadata": {},
     "output_type": "display_data"
    }
   ],
   "source": [
    "feature = 2\n",
    "max_bins = 20\n",
    "\n",
    "# (880, -560) to (895, 545)\n",
    "\n",
    "bins = max_bins if max_bins < np.arange(data[:, feature].ravel().max() + 2).shape[0] else np.arange(data[:, feature].ravel().max() + 2)\n",
    "\n",
    "# print(np.histogram(data[:, feature].ravel(), bins=np.arange(data[:, feature].ravel().max() + 2)))\n",
    "plt.hist(data[:, feature].ravel(), bins=bins)\n",
    "\n",
    "if np.arange(data[:, feature].ravel().max() + 2).shape[0] < plt.xticks()[0].shape[0]:\n",
    "    plt.xticks(np.arange(data[:, feature].ravel().max() + 2))\n"
   ]
  }
 ],
 "metadata": {
  "kernelspec": {
   "display_name": "Python 3.8.10 ('venv': venv)",
   "language": "python",
   "name": "python3"
  },
  "language_info": {
   "codemirror_mode": {
    "name": "ipython",
    "version": 3
   },
   "file_extension": ".py",
   "mimetype": "text/x-python",
   "name": "python",
   "nbconvert_exporter": "python",
   "pygments_lexer": "ipython3",
   "version": "3.8.10"
  },
  "orig_nbformat": 4,
  "vscode": {
   "interpreter": {
    "hash": "b26c068b141905f0ff66e080ffe7b968e548408d059de0bd8590b52b4a0c2b91"
   }
  }
 },
 "nbformat": 4,
 "nbformat_minor": 2
}
