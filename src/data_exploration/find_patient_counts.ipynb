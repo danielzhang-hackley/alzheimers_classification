{
 "cells": [
  {
   "cell_type": "code",
   "execution_count": 1,
   "metadata": {},
   "outputs": [],
   "source": [
    "import pandas as pd"
   ]
  },
  {
   "cell_type": "markdown",
   "metadata": {},
   "source": [
    "#### Load data"
   ]
  },
  {
   "cell_type": "code",
   "execution_count": 2,
   "metadata": {},
   "outputs": [],
   "source": [
    "well_map = pd.read_csv(r'../../raw_data/well_PTID_map.csv')\n",
    "rid_map = pd.read_csv(r'../../raw_data/RID_PTID_map.csv')\n",
    "\n",
    "well_dict = {well_map.iloc[i][\"WGS_SAMPLE_NUMBER\"]: well_map.iloc[i][\"ADNI_PTID\"] for i in range(well_map.shape[0])}\n",
    "rid_dict =  {rid_map.iloc[i][\"RID\"]:                rid_map.iloc[i][\"PTID\"]       for i in range(rid_map.shape[0])}"
   ]
  },
  {
   "cell_type": "code",
   "execution_count": 3,
   "metadata": {},
   "outputs": [],
   "source": [
    "cnv = pd.read_csv(r'../../raw_data/cnv.tsv', sep='\\t')\n",
    "expr = pd.read_csv(r'../../raw_data/gene_expression.tsv', sep='\\t')\n",
    "metab = pd.read_csv(r'../../raw_data/metabolomics.csv')\n",
    "metab_dict = pd.read_csv(r'../../raw_data/metabolomics_dict.csv')"
   ]
  },
  {
   "cell_type": "markdown",
   "metadata": {},
   "source": [
    "#### Create new dataframes with PTIDs only"
   ]
  },
  {
   "cell_type": "markdown",
   "metadata": {},
   "source": [
    "Expression data"
   ]
  },
  {
   "cell_type": "code",
   "execution_count": 4,
   "metadata": {},
   "outputs": [],
   "source": [
    "expr_dict = {}\n",
    "for i in range(2, len(expr.columns)):\n",
    "    expr_dict[expr.columns[i]] = expr.columns[i][1:]\n",
    "\n",
    "expr_new = expr.rename(columns=expr_dict)"
   ]
  },
  {
   "cell_type": "markdown",
   "metadata": {},
   "source": [
    "Metabolomics data"
   ]
  },
  {
   "cell_type": "code",
   "execution_count": 5,
   "metadata": {},
   "outputs": [],
   "source": [
    "# metab_new.filter(regex='LOGTRANSFORMFLAG').drop_duplicates().transpose().drop_duplicates()\n",
    "\n",
    "metab_rids = metab[\"RID\"].to_numpy()\n",
    "metab_ptids = []\n",
    "for i in range(metab_rids.shape[0]):\n",
    "    if metab_rids[i] in rid_dict.keys():\n",
    "        metab_ptids.append(rid_dict[metab_rids[i]])\n",
    "\n",
    "metab_new = metab.merge(rid_map[[\"RID\"]], how='inner', on=\"RID\").drop(columns=[\"RID\"])\n",
    "metab_new[\"PTID\"] = metab_ptids\n",
    "\n",
    "cols = metab_new.columns.tolist()\n",
    "cols.remove(\"PTID\")\n",
    "cols.insert(1, \"PTID\")\n",
    "metab_new = metab_new[cols]\n",
    "del cols\n",
    "\n",
    "\n",
    "metab_new = metab_new.loc[metab_new['SUBJECT_FLAG'] == 0]\n",
    "keep_cols = [\n",
    "    \"PTID\",\n",
    "    \"CA\",\n",
    "    \"CDCA\",\n",
    "    \"DCA\",\n",
    "    \"GCA\",\n",
    "    \"GCDCA\",\n",
    "    \"GDCA\",\n",
    "    \"GLCA\",\n",
    "    \"GUDCA\",\n",
    "    \"TCA\",\n",
    "    \"TCDCA\",\n",
    "    \"TDCA\",\n",
    "    \"TLCA\",\n",
    "    \"TMCA_A_B\",\n",
    "    \"TUDCA\",\n",
    "    \"UDCA\",\n",
    "    \"CA_CDCA\",\n",
    "    \"DCA_CA\",\n",
    "    \"GLCA_CDCA\",\n",
    "    \"GDCA_CA\",\n",
    "    \"GDCA_DCA\",\n",
    "    \"TDCA_CA\",\n",
    "    \"TLCA_CDCA\",\n",
    "    \"TDCA_DCA\",\n",
    "]\n",
    "metab_new = metab_new[keep_cols]"
   ]
  },
  {
   "cell_type": "markdown",
   "metadata": {},
   "source": [
    "Copy number variation data"
   ]
  },
  {
   "cell_type": "code",
   "execution_count": 6,
   "metadata": {},
   "outputs": [],
   "source": [
    "cnv_new = cnv.rename(columns=well_dict)"
   ]
  },
  {
   "cell_type": "markdown",
   "metadata": {},
   "source": [
    "#### Find intersection of PTIDs across all datasets"
   ]
  },
  {
   "cell_type": "code",
   "execution_count": 7,
   "metadata": {},
   "outputs": [],
   "source": [
    "cnv_ptids = set(cnv_new.columns[6:])\n",
    "expr_ptids = set(expr_new.columns[2:])\n",
    "metab_ptids = set(metab_new['PTID'])\n",
    "\n",
    "\n",
    "final_ptids = list(expr_ptids.intersection(cnv_ptids.intersection(metab_ptids)))\n",
    "final_ptids = pd.DataFrame({\"PTID\": final_ptids})\n",
    "\n",
    "labels = pd.read_csv(r'../../raw_data/clinical_data.csv')\n",
    "labels = labels[[\"PTID\", \"DX_bl\"]].dropna(axis=0).drop_duplicates()\n",
    "\n",
    "intxn_ptid_labels = labels.merge(final_ptids, how='inner', on=\"PTID\")\n",
    "# pd.unique(intxn_ptid_labels[\"PTID\"]).shape[0] will return 681; all patients in intersection have at least one valid diagnosis\n"
   ]
  },
  {
   "cell_type": "code",
   "execution_count": 8,
   "metadata": {},
   "outputs": [
    {
     "data": {
      "text/html": [
       "<div>\n",
       "<style scoped>\n",
       "    .dataframe tbody tr th:only-of-type {\n",
       "        vertical-align: middle;\n",
       "    }\n",
       "\n",
       "    .dataframe tbody tr th {\n",
       "        vertical-align: top;\n",
       "    }\n",
       "\n",
       "    .dataframe thead th {\n",
       "        text-align: right;\n",
       "    }\n",
       "</style>\n",
       "<table border=\"1\" class=\"dataframe\">\n",
       "  <thead>\n",
       "    <tr style=\"text-align: right;\">\n",
       "      <th></th>\n",
       "      <th>PTID</th>\n",
       "      <th>DX_bl</th>\n",
       "    </tr>\n",
       "  </thead>\n",
       "  <tbody>\n",
       "    <tr>\n",
       "      <th>0</th>\n",
       "      <td>011_S_0021</td>\n",
       "      <td>CN</td>\n",
       "    </tr>\n",
       "    <tr>\n",
       "      <th>1</th>\n",
       "      <td>011_S_0023</td>\n",
       "      <td>CN</td>\n",
       "    </tr>\n",
       "    <tr>\n",
       "      <th>2</th>\n",
       "      <td>100_S_0035</td>\n",
       "      <td>CN</td>\n",
       "    </tr>\n",
       "    <tr>\n",
       "      <th>3</th>\n",
       "      <td>023_S_0042</td>\n",
       "      <td>LMCI</td>\n",
       "    </tr>\n",
       "    <tr>\n",
       "      <th>4</th>\n",
       "      <td>100_S_0047</td>\n",
       "      <td>CN</td>\n",
       "    </tr>\n",
       "    <tr>\n",
       "      <th>...</th>\n",
       "      <td>...</td>\n",
       "      <td>...</td>\n",
       "    </tr>\n",
       "    <tr>\n",
       "      <th>637</th>\n",
       "      <td>053_S_4578</td>\n",
       "      <td>CN</td>\n",
       "    </tr>\n",
       "    <tr>\n",
       "      <th>638</th>\n",
       "      <td>135_S_4598</td>\n",
       "      <td>CN</td>\n",
       "    </tr>\n",
       "    <tr>\n",
       "      <th>639</th>\n",
       "      <td>012_S_4643</td>\n",
       "      <td>CN</td>\n",
       "    </tr>\n",
       "    <tr>\n",
       "      <th>640</th>\n",
       "      <td>135_S_4676</td>\n",
       "      <td>AD</td>\n",
       "    </tr>\n",
       "    <tr>\n",
       "      <th>641</th>\n",
       "      <td>031_S_4021</td>\n",
       "      <td>CN</td>\n",
       "    </tr>\n",
       "  </tbody>\n",
       "</table>\n",
       "<p>642 rows × 2 columns</p>\n",
       "</div>"
      ],
      "text/plain": [
       "           PTID DX_bl\n",
       "0    011_S_0021    CN\n",
       "1    011_S_0023    CN\n",
       "2    100_S_0035    CN\n",
       "3    023_S_0042  LMCI\n",
       "4    100_S_0047    CN\n",
       "..          ...   ...\n",
       "637  053_S_4578    CN\n",
       "638  135_S_4598    CN\n",
       "639  012_S_4643    CN\n",
       "640  135_S_4676    AD\n",
       "641  031_S_4021    CN\n",
       "\n",
       "[642 rows x 2 columns]"
      ]
     },
     "execution_count": 8,
     "metadata": {},
     "output_type": "execute_result"
    }
   ],
   "source": [
    "intxn_ptid_labels"
   ]
  },
  {
   "cell_type": "code",
   "execution_count": 9,
   "metadata": {},
   "outputs": [],
   "source": [
    "# unaccounted_metab_rids = set()\n",
    "# \n",
    "# cnv_wells = cnv.columns[6:]\n",
    "# expr_ptids = expr.columns[2:]\n",
    "# metab_rids = metab[\"RID\"].to_numpy()\n",
    "# \n",
    "# for i in range(cnv_wells.shape[0]):\n",
    "#     cnv_ptids.add(well_dict[cnv_wells[i]])\n",
    "# \n",
    "# for i in range(metab_rids.shape[0]):\n",
    "#     if metab_rids[i] in rid_dict.keys():\n",
    "#         metab_ptids.add(rid_dict[metab_rids[i]])\n",
    "#     else:\n",
    "#         unaccounted_metab_rids.add(metab_rids[i])"
   ]
  },
  {
   "cell_type": "code",
   "execution_count": 10,
   "metadata": {},
   "outputs": [],
   "source": [
    "# save PTIDs with different diagnoses\n",
    "# dupe_idx = intxn_ptid_labels[[\"PTID\"]].duplicated(keep=False)  # indices of duplicate entries\n",
    "# dupe_idx"
   ]
  },
  {
   "cell_type": "markdown",
   "metadata": {},
   "source": [
    "#### Transpose data and compress feature names"
   ]
  },
  {
   "cell_type": "markdown",
   "metadata": {},
   "source": [
    "Expression data"
   ]
  },
  {
   "cell_type": "code",
   "execution_count": 11,
   "metadata": {},
   "outputs": [],
   "source": [
    "idx_to_sym = {k[0]: k[1] for k in zip(expr_new.index, expr_new[\"Symbol\"])}\n",
    "expr_t = expr_new.transpose().rename(columns=idx_to_sym).drop(labels=[\"Probeid\", \"Symbol\"], axis=0)\n",
    "\n",
    "expr_t[\"PTID\"] = expr_t.index\n",
    "cols = expr_t.columns.tolist()\n",
    "cols.remove(\"PTID\")\n",
    "cols.insert(0, \"PTID\")\n",
    "expr_t = expr_t[cols]\n",
    "del cols\n",
    "\n",
    "expr_t = expr_t.merge(intxn_ptid_labels[[\"PTID\"]], how='inner', on=\"PTID\")\n",
    "expr_t = expr_t.reset_index().drop(labels='index', axis=1)\n"
   ]
  },
  {
   "cell_type": "markdown",
   "metadata": {},
   "source": [
    "Copy number variation data"
   ]
  },
  {
   "cell_type": "code",
   "execution_count": 52,
   "metadata": {},
   "outputs": [],
   "source": [
    "# TODO; retain feature names in final dataset\n",
    "\n",
    "cnv_t = cnv_new.transpose()\n",
    "cnv_t = cnv_t.rename(columns={idx: \"cnv_\" + str(idx) + \"_\" + cnv_new[\"QUAL\"].loc[idx] for idx in cnv_new.index})\n",
    "\n",
    "cnv_t[\"PTID\"] = cnv_t.index\n",
    "cols = cnv_t.columns.tolist()\n",
    "cols.remove(\"PTID\")\n",
    "cols.insert(0, \"PTID\")\n",
    "cnv_t = cnv_t[cols]\n",
    "del cols\n",
    "\n",
    "cnv_t_data = cnv_t[6:].merge(intxn_ptid_labels[[\"PTID\"]], how='inner', on=\"PTID\")\n",
    "cnv_t_key = cnv_t[:6].drop(columns=[\"PTID\"])\n",
    "\n",
    "cnv_t_data = cnv_t_data.reset_index().drop(labels='index', axis=1)"
   ]
  },
  {
   "cell_type": "code",
   "execution_count": 46,
   "metadata": {},
   "outputs": [],
   "source": [
    "cnv_t_data.to_csv(r'../../data/cnv.csv')"
   ]
  },
  {
   "cell_type": "markdown",
   "metadata": {},
   "source": [
    "Metabolomics data"
   ]
  },
  {
   "cell_type": "code",
   "execution_count": 13,
   "metadata": {},
   "outputs": [],
   "source": [
    "metab_final = metab_new.merge(intxn_ptid_labels[[\"PTID\"]], how='inner', on=\"PTID\")"
   ]
  },
  {
   "cell_type": "markdown",
   "metadata": {},
   "source": [
    "#### Save data"
   ]
  },
  {
   "cell_type": "code",
   "execution_count": 14,
   "metadata": {},
   "outputs": [],
   "source": [
    "expr_t.to_csv(r'../../data/gene_expression.csv')\n",
    "cnv_t_data.to_csv(r'../../data/cnv.csv')\n",
    "metab_final.to_csv(r'../../data/metabolomics.csv')\n",
    "intxn_ptid_labels.to_csv(r'../../data/labels.csv')\n",
    "\n",
    "cnv_t_key.to_csv(r'../../metadata/cnv_key.csv')"
   ]
  },
  {
   "cell_type": "code",
   "execution_count": 56,
   "metadata": {},
   "outputs": [
    {
     "data": {
      "text/plain": [
       "(36, 2)"
      ]
     },
     "execution_count": 56,
     "metadata": {},
     "output_type": "execute_result"
    }
   ],
   "source": [
    "# 221 are CN\n",
    "# 36 are AD\n",
    "# 193 are LMCI\n",
    "# 192 are EMCI\n",
    "\n",
    "intxn_ptid_labels[intxn_ptid_labels[\"DX_bl\"] == \"AD\"].shape"
   ]
  },
  {
   "cell_type": "code",
   "execution_count": 41,
   "metadata": {},
   "outputs": [
    {
     "data": {
      "text/plain": [
       "(43, 2)"
      ]
     },
     "execution_count": 41,
     "metadata": {},
     "output_type": "execute_result"
    }
   ],
   "source": [
    "cnv_ptids_df = pd.DataFrame({\"PTID\": list(cnv_ptids)})\n",
    "\n",
    "biomics = (labels.merge(metab_new[[\"PTID\"]], how='inner', on=\"PTID\")).merge(cnv_ptids_df[[\"PTID\"]], how='inner', on=\"PTID\")\n",
    "biomics[biomics[\"DX_bl\"] == \"AD\"].shape\n"
   ]
  }
 ],
 "metadata": {
  "kernelspec": {
   "display_name": "Python 3.8.10 ('venv': venv)",
   "language": "python",
   "name": "python3"
  },
  "language_info": {
   "codemirror_mode": {
    "name": "ipython",
    "version": 3
   },
   "file_extension": ".py",
   "mimetype": "text/x-python",
   "name": "python",
   "nbconvert_exporter": "python",
   "pygments_lexer": "ipython3",
   "version": "3.8.10"
  },
  "orig_nbformat": 4,
  "vscode": {
   "interpreter": {
    "hash": "b26c068b141905f0ff66e080ffe7b968e548408d059de0bd8590b52b4a0c2b91"
   }
  }
 },
 "nbformat": 4,
 "nbformat_minor": 2
}
