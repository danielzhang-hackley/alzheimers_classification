{
 "cells": [
  {
   "cell_type": "code",
   "execution_count": 19,
   "metadata": {},
   "outputs": [],
   "source": [
    "import numpy as np\n",
    "import pandas as pd\n",
    "\n",
    "from scipy.stats import f_oneway, mannwhitneyu, shapiro\n",
    "\n",
    "from sklearn.ensemble import RandomForestClassifier\n",
    "from sklearn.preprocessing import StandardScaler, LabelEncoder\n",
    "from sklearn.model_selection import StratifiedKFold\n",
    "from sklearn.model_selection import GridSearchCV\n",
    "from sklearn.metrics import accuracy_score, roc_auc_score\n",
    "\n",
    "import time\n",
    "import warnings"
   ]
  },
  {
   "cell_type": "markdown",
   "metadata": {},
   "source": [
    "#### Load data"
   ]
  },
  {
   "cell_type": "code",
   "execution_count": 50,
   "metadata": {},
   "outputs": [],
   "source": [
    "exp = pd.read_csv(r'../../data/clean/gene_expression.csv')\n",
    "cnv = pd.read_csv(r'../../data/clean/cnv.csv')\n",
    "cnv_full = pd.read_csv(r'../../data/cnv.csv')\n",
    "met = pd.read_csv(r'../../data/clean/metabolomics.csv')\n",
    "labels = pd.read_csv(r'../../data/labels.csv')"
   ]
  },
  {
   "cell_type": "code",
   "execution_count": 51,
   "metadata": {},
   "outputs": [],
   "source": [
    "exp.drop(columns=\"Unnamed: 0\", inplace=True)\n",
    "cnv.drop(columns=\"Unnamed: 0\", inplace=True)\n",
    "cnv_full.drop(columns=\"Unnamed: 0\", inplace=True)\n",
    "met.drop(columns=\"Unnamed: 0\", inplace=True)\n",
    "labels.drop(columns=\"Unnamed: 0\", inplace=True)"
   ]
  },
  {
   "cell_type": "markdown",
   "metadata": {},
   "source": [
    "#### Split labels into classes"
   ]
  },
  {
   "cell_type": "code",
   "execution_count": 52,
   "metadata": {},
   "outputs": [],
   "source": [
    "emci = labels[labels[\"DX_bl\"] == \"EMCI\"].reset_index(drop=True)\n",
    "cn = labels[labels[\"DX_bl\"] == \"CN\"].reset_index(drop=True)\n",
    "lmci = labels[labels[\"DX_bl\"] == \"LMCI\"].reset_index().drop(columns='index')\n",
    "# ad = labels[labels[\"DX_bl\"] == \"AD\"].reset_index().drop(columns='index')\n",
    "\n",
    "targets = pd.concat([cn, emci, lmci]).reset_index(drop=True)\n",
    "encoding = {\"CN\": 0, \"EMCI\": 1, \"LMCI\": 1}\n",
    "targets.loc[:, \"DX_bl\"] = targets[\"DX_bl\"].map(encoding)\n",
    "targets = targets.astype({\"DX_bl\": \"int16\"})"
   ]
  },
  {
   "cell_type": "code",
   "execution_count": 55,
   "metadata": {},
   "outputs": [],
   "source": [
    "exp = exp.merge(targets[[\"PTID\"]], how='inner', on=\"PTID\")\n",
    "cnv = cnv.merge(targets[[\"PTID\"]], how='inner', on=\"PTID\")\n",
    "cnv_full = cnv_full.merge(targets[[\"PTID\"]], how='inner', on=\"PTID\")\n",
    "met = met.merge(targets[[\"PTID\"]], how='inner', on=\"PTID\")\n",
    "\n",
    "exp.sort_values(by=\"PTID\", ignore_index=True, inplace=True)\n",
    "cnv.sort_values(by=\"PTID\", ignore_index=True, inplace=True)\n",
    "cnv_full.sort_values(by=\"PTID\", ignore_index=True, inplace=True)\n",
    "met.sort_values(by=\"PTID\", ignore_index=True, inplace=True)\n",
    "targets.sort_values(by=\"PTID\", ignore_index=True, inplace=True)"
   ]
  },
  {
   "cell_type": "markdown",
   "metadata": {},
   "source": [
    "#### Get fold 1"
   ]
  },
  {
   "cell_type": "code",
   "execution_count": 56,
   "metadata": {},
   "outputs": [],
   "source": [
    "n_folds = 5\n",
    "kf = StratifiedKFold(n_splits=n_folds, random_state=42, shuffle=True)\n",
    "\n",
    "for i, (train_idx, test_idx) in enumerate(kf.split(np.zeros(targets.shape[0]), targets[\"DX_bl\"])):\n",
    "    exp_train_1 = exp.loc[train_idx, :]\n",
    "    cnv_full_train = cnv_full.loc[train_idx, :]\n",
    "    cnv_full_test = cnv_full.loc[test_idx, :]\n",
    "\n",
    "    # exp_train = exp.loc[train_idx, :]\n",
    "    # cnv_train = cnv.loc[train_idx, :]\n",
    "    # met_train = met.loc[train_idx, :]\n",
    "    # y_train = targets.loc[train_idx, :]\n",
    "    # \n",
    "    # exp_test = exp.loc[test_idx, :]\n",
    "    # cnv_test = cnv.loc[test_idx, :]\n",
    "    # met_test = met.loc[test_idx, :]\n",
    "    # y_test = targets.loc[test_idx, :]\n",
    "    break"
   ]
  },
  {
   "cell_type": "code",
   "execution_count": 86,
   "metadata": {},
   "outputs": [],
   "source": [
    "np.savez(\n",
    "    r'../../data/testing/fold_1_cnv_full.npz',\n",
    "    cnv_full_train=cnv_full_train.loc[:, cnv_full_train.columns != \"PTID\"].to_numpy(),\n",
    "    cnv_full_test=cnv_full_test.loc[:, cnv_full_test.columns != \"PTID\"].to_numpy()\n",
    ")"
   ]
  },
  {
   "cell_type": "code",
   "execution_count": null,
   "metadata": {},
   "outputs": [],
   "source": [
    "np.savez(\n",
    "    r'../../data/testing/fold_1.npz', \n",
    "    exp_train=exp_train.loc[:, exp_train.columns != \"PTID\"].to_numpy(),\n",
    "    cnv_train=cnv_train.loc[:, cnv_train.columns != \"PTID\"].to_numpy(),\n",
    "    met_train=met_train.loc[:, met_train.columns != \"PTID\"].to_numpy(),\n",
    "    exp_test=exp_test.loc[:, exp_test.columns != \"PTID\"].to_numpy(),\n",
    "    cnv_test=cnv_test.loc[:, cnv_test.columns != \"PTID\"].to_numpy(),\n",
    "    met_test=met_test.loc[:, met_test.columns != \"PTID\"].to_numpy(),\n",
    "    y_train=y_train[[\"DX_bl\"]].to_numpy().ravel(),\n",
    "    y_test=y_test[[\"DX_bl\"]].to_numpy().ravel()\n",
    ")"
   ]
  },
  {
   "cell_type": "markdown",
   "metadata": {},
   "source": [
    "#### Load saved fold"
   ]
  },
  {
   "cell_type": "code",
   "execution_count": 20,
   "metadata": {},
   "outputs": [],
   "source": [
    "npzfile = np.load(r'../../data/testing/fold_1.npz')\n",
    "\n",
    "exp_train = npzfile[\"exp_train\"]\n",
    "cnv_train = npzfile[\"cnv_train\"]\n",
    "met_train = npzfile[\"met_train\"]\n",
    "y_train = npzfile[\"y_train\"]\n",
    "exp_test = npzfile[\"exp_test\"]\n",
    "cnv_test = npzfile[\"cnv_test\"]\n",
    "met_test = npzfile[\"met_test\"]\n",
    "y_test = npzfile[\"y_test\"]"
   ]
  },
  {
   "cell_type": "code",
   "execution_count": 88,
   "metadata": {},
   "outputs": [],
   "source": [
    "npzfile_cnv = np.load(r'../../data/testing/fold_1_cnv_full.npz')\n",
    "\n",
    "cnv_full_train = npzfile_cnv[\"cnv_full_train\"]\n",
    "cnv_full_test = npzfile_cnv[\"cnv_full_test\"]"
   ]
  },
  {
   "cell_type": "markdown",
   "metadata": {},
   "source": [
    "#### Select features"
   ]
  },
  {
   "cell_type": "code",
   "execution_count": 96,
   "metadata": {},
   "outputs": [
    {
     "name": "stdout",
     "output_type": "stream",
     "text": [
      "1285\n",
      "3330\n",
      "2\n",
      "\n",
      "3342\n",
      "1206\n",
      "7\n",
      "\n",
      "308\n",
      "118\n",
      "2\n"
     ]
    }
   ],
   "source": [
    "exp_meta = {'pval_thresh': 0.1,  'idx_bnds': (0, exp_train.shape[1] - 1)}\n",
    "cnv_meta = {'pval_thresh': 0.05, 'idx_bnds': (exp_meta['idx_bnds'][1] + 1, exp_meta['idx_bnds'][1] + cnv_full_train.shape[1])}\n",
    "met_meta = {'pval_thresh': 0.1,  'idx_bnds': (cnv_meta['idx_bnds'][1] + 1, cnv_meta['idx_bnds'][1] + met_train.shape[1])}\n",
    "\n",
    "cnv_full_train_log = np.log2(cnv_full_train + 1)\n",
    "cnv_full_test_log = np.log2(cnv_full_test + 1)\n",
    "\n",
    "X_train = np.concatenate((exp_train, cnv_full_train_log, met_train), axis=1)\n",
    "X_test = np.concatenate((exp_test, cnv_full_test_log, met_test), axis=1)\n",
    "\n",
    "pvals = np.ones((X_train.shape[1]))\n",
    "for j in range(X_train.shape[1]):\n",
    "    # feature_data = X_train[:, j].ravel()\n",
    "    # with warnings.catch_warnings():\n",
    "        # warnings.simplefilter(\"ignore\")\n",
    "        # _, p_shapiro = shapiro(feature_data)\n",
    "        # print(p_shapiro)\n",
    "\n",
    "    pos = X_train[y_train == 1, j].ravel()\n",
    "    neg = X_train[y_train == 0, j].ravel()\n",
    "\n",
    "    with warnings.catch_warnings():\n",
    "        warnings.simplefilter(\"ignore\")\n",
    "        # if p_shapiro <= 0.05:\n",
    "        #     _, p = mannwhitneyu(pos, neg, alternative='two-sided')\n",
    "        # else:\n",
    "        _, p = f_oneway(pos, neg)\n",
    "    pvals[j] = p\n",
    "\n",
    "pvals = np.nan_to_num(pvals, nan=1.0)\n",
    "for omic_meta in (exp_meta, cnv_meta, met_meta):\n",
    "    omic_meta['sig_idx'] = np.where(pvals[omic_meta['idx_bnds'][0]: omic_meta['idx_bnds'][1] + 1] < omic_meta['pval_thresh'])[0]\n",
    "    print(len(omic_meta['sig_idx']))\n",
    "print()\n",
    "\n",
    "# Feature importance based on feature permutation\n",
    "forest = RandomForestClassifier(random_state=0, class_weight='balanced')\n",
    "forest.fit(X_train, y_train)\n",
    "for omic_meta in (exp_meta, cnv_meta, met_meta):\n",
    "    omic_meta['rf_idx'] = np.where(forest.feature_importances_[omic_meta['idx_bnds'][0]: omic_meta['idx_bnds'][1] + 1] > 0.0)[0]\n",
    "    print(len(omic_meta['rf_idx']))\n",
    "print()\n",
    "\n",
    "# select overlap genes (p<0.1 and importance by RF)\n",
    "for omic_meta in (exp_meta, cnv_meta, met_meta):\n",
    "    omic_meta['intxn'] = list(set(omic_meta['sig_idx']) & set(omic_meta['rf_idx']))\n",
    "    print(len(omic_meta['intxn']))\n"
   ]
  },
  {
   "cell_type": "markdown",
   "metadata": {},
   "source": [
    "#### Run classification"
   ]
  },
  {
   "cell_type": "code",
   "execution_count": 97,
   "metadata": {},
   "outputs": [],
   "source": [
    "for omic_meta in exp_meta, cnv_meta, met_meta:\n",
    "    omic_meta['sel_train'] = X_train[:, omic_meta['intxn']]\n",
    "    omic_meta['sel_test'] = X_test[:, omic_meta['intxn']]\n",
    "    omic_meta['scaler'] = StandardScaler()\n",
    "\n",
    "    if len(omic_meta['intxn']) > 0:\n",
    "        omic_meta['sel_train'] = omic_meta['scaler'].fit_transform(omic_meta['sel_train'])\n",
    "        omic_meta['sel_test'] = omic_meta['scaler'].transform(omic_meta['sel_test'])\n",
    "\n",
    "X_train = np.concatenate((exp_meta['sel_train'], cnv_meta['sel_train'], met_meta['sel_train']), axis=1)\n",
    "X_test = np.concatenate((exp_meta['sel_test'], cnv_meta['sel_test'], met_meta['sel_test']), axis=1)"
   ]
  },
  {
   "cell_type": "code",
   "execution_count": 98,
   "metadata": {},
   "outputs": [
    {
     "name": "stdout",
     "output_type": "stream",
     "text": [
      "Elapsed time to tune RF: 3794.642 seconds\n",
      "Best parameters: {'bootstrap': True, 'ccp_alpha': 0.0, 'class_weight': 'balanced', 'criterion': 'gini', 'max_depth': 2, 'max_features': 0.5000000000000001, 'max_leaf_nodes': None, 'max_samples': 0.30000000000000004, 'min_impurity_decrease': 0.0, 'min_samples_leaf': 1, 'min_samples_split': 2, 'min_weight_fraction_leaf': 0.0, 'n_estimators': 220, 'n_jobs': None, 'oob_score': False, 'random_state': 0, 'verbose': 0, 'warm_start': False}\n",
      "Test accuracy: 0.614754\n",
      "Test      AUC: 0.491775\n"
     ]
    }
   ],
   "source": [
    "# tuning RF prediction parameters by exhaust grid search to optimize a prediction RF model\n",
    "start_time = time.time()\n",
    "param_grid = {\n",
    "    'n_estimators': np.arange(40, 260, 20),\n",
    "    'max_features': np.arange(0.2, 1, 0.1),\n",
    "    'max_depth': np.arange(1, 10, 1),\n",
    "    'max_samples': np.arange(0.2, 1, 0.1)\n",
    "}\n",
    "            \n",
    "model_grid = GridSearchCV(\n",
    "    RandomForestClassifier(criterion='gini', random_state=0, class_weight=\"balanced\"),\n",
    "    param_grid, \n",
    "    n_jobs=-1\n",
    ").fit(X_train, y_train)\n",
    "\n",
    "model = model_grid.best_estimator_\n",
    "elapsed_time = time.time() - start_time\n",
    "\n",
    "\n",
    "print(f\"Elapsed time to tune RF: {elapsed_time:.3f} seconds\")\n",
    "print(f\"Best parameters: {model.get_params()}\")\n",
    "\n",
    "# predict using the model built\n",
    "test_prob = model.predict_proba(X_test)\n",
    "test_predict = model.predict(X_test)\n",
    "AUC = roc_auc_score(y_test, test_prob[:, 1])\n",
    "ACC = accuracy_score(y_test, test_predict)\n",
    "print(\"Test accuracy: %f\" % ACC)\n",
    "print(\"Test      AUC: %f\" % AUC)\n",
    "\n",
    "# prepare the result output\n",
    "test_out = pd.DataFrame(test_prob)\n",
    "test_out['predict'] = test_predict\n",
    "test_out['class_label'] = y_test"
   ]
  },
  {
   "cell_type": "code",
   "execution_count": 13,
   "metadata": {},
   "outputs": [],
   "source": [
    "test_out.to_csv(r'../../results/multiomics_emci-cn_rf_pval-0.1-0.05-0.1_fold-1.csv')"
   ]
  }
 ],
 "metadata": {
  "kernelspec": {
   "display_name": "Python 3.8.10 ('venv': venv)",
   "language": "python",
   "name": "python3"
  },
  "language_info": {
   "codemirror_mode": {
    "name": "ipython",
    "version": 3
   },
   "file_extension": ".py",
   "mimetype": "text/x-python",
   "name": "python",
   "nbconvert_exporter": "python",
   "pygments_lexer": "ipython3",
   "version": "3.8.10"
  },
  "orig_nbformat": 4,
  "vscode": {
   "interpreter": {
    "hash": "b26c068b141905f0ff66e080ffe7b968e548408d059de0bd8590b52b4a0c2b91"
   }
  }
 },
 "nbformat": 4,
 "nbformat_minor": 2
}
