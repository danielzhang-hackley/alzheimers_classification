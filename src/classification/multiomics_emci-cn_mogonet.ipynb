{
 "cells": [
  {
   "cell_type": "code",
   "execution_count": 1,
   "metadata": {},
   "outputs": [],
   "source": [
    "import numpy as np\n",
    "import pandas as pd\n",
    "\n",
    "from scipy.stats import f_oneway, mannwhitneyu, shapiro\n",
    "\n",
    "from sklearn.ensemble import RandomForestClassifier\n",
    "from sklearn.preprocessing import StandardScaler, LabelEncoder\n",
    "from sklearn.model_selection import StratifiedKFold\n",
    "from sklearn.model_selection import GridSearchCV\n",
    "from sklearn.feature_selection import VarianceThreshold\n",
    "from sklearn.metrics import accuracy_score, roc_auc_score\n",
    "\n",
    "import time\n",
    "import warnings"
   ]
  },
  {
   "cell_type": "markdown",
   "metadata": {},
   "source": [
    "#### Load data"
   ]
  },
  {
   "cell_type": "code",
   "execution_count": null,
   "metadata": {},
   "outputs": [],
   "source": [
    "exp = pd.read_csv(r'../../data/clean/gene_expression.csv')\n",
    "cnv = pd.read_csv(r'../../data/clean/cnv.csv')\n",
    "cnv_full = pd.read_csv(r'../../data/cnv.csv')\n",
    "met = pd.read_csv(r'../../data/clean/metabolomics.csv')\n",
    "labels = pd.read_csv(r'../../data/labels.csv')"
   ]
  },
  {
   "cell_type": "code",
   "execution_count": null,
   "metadata": {},
   "outputs": [],
   "source": [
    "exp.drop(columns=\"Unnamed: 0\", inplace=True)\n",
    "cnv.drop(columns=\"Unnamed: 0\", inplace=True)\n",
    "cnv_full.drop(columns=\"Unnamed: 0\", inplace=True)\n",
    "met.drop(columns=\"Unnamed: 0\", inplace=True)\n",
    "labels.drop(columns=\"Unnamed: 0\", inplace=True)"
   ]
  },
  {
   "cell_type": "markdown",
   "metadata": {},
   "source": [
    "#### Split labels into classes"
   ]
  },
  {
   "cell_type": "code",
   "execution_count": null,
   "metadata": {},
   "outputs": [],
   "source": [
    "emci = labels[labels[\"DX_bl\"] == \"EMCI\"].reset_index(drop=True)\n",
    "cn = labels[labels[\"DX_bl\"] == \"CN\"].reset_index(drop=True)\n",
    "lmci = labels[labels[\"DX_bl\"] == \"LMCI\"].reset_index().drop(columns='index')\n",
    "# ad = labels[labels[\"DX_bl\"] == \"AD\"].reset_index().drop(columns='index')\n",
    "\n",
    "targets = pd.concat([cn, emci, lmci]).reset_index(drop=True)\n",
    "encoding = {\"CN\": 0, \"EMCI\": 1, \"LMCI\": 1}\n",
    "targets.loc[:, \"DX_bl\"] = targets[\"DX_bl\"].map(encoding)\n",
    "targets = targets.astype({\"DX_bl\": \"int16\"})"
   ]
  },
  {
   "cell_type": "code",
   "execution_count": null,
   "metadata": {},
   "outputs": [],
   "source": [
    "exp = exp.merge(targets[[\"PTID\"]], how='inner', on=\"PTID\")\n",
    "cnv = cnv.merge(targets[[\"PTID\"]], how='inner', on=\"PTID\")\n",
    "cnv_full = cnv_full.merge(targets[[\"PTID\"]], how='inner', on=\"PTID\")\n",
    "met = met.merge(targets[[\"PTID\"]], how='inner', on=\"PTID\")\n",
    "\n",
    "exp.sort_values(by=\"PTID\", ignore_index=True, inplace=True)\n",
    "cnv.sort_values(by=\"PTID\", ignore_index=True, inplace=True)\n",
    "cnv_full.sort_values(by=\"PTID\", ignore_index=True, inplace=True)\n",
    "met.sort_values(by=\"PTID\", ignore_index=True, inplace=True)\n",
    "targets.sort_values(by=\"PTID\", ignore_index=True, inplace=True)\n",
    "\n",
    "exp_np = exp.select_dtypes(include=np.number).to_numpy()\n",
    "cnv_full_np = cnv_full.select_dtypes(include=np.number).to_numpy()\n",
    "met_np = met.select_dtypes(include=np.number).to_numpy()\n",
    "targets_np = targets[['DX_bl']].to_numpy().ravel()\n",
    "\n",
    "cnv_full_np_log = np.log2(cnv_full_np + 1)"
   ]
  },
  {
   "cell_type": "code",
   "execution_count": null,
   "metadata": {},
   "outputs": [],
   "source": [
    "exp_meta = {'data': exp_np,          'pval_thresh': 0.2,  'var_thresh': 0.01}\n",
    "cnv_meta = {'data': cnv_full_np_log, 'pval_thresh': 0.01, 'var_thresh': 0.01}\n",
    "met_meta = {'data': met_np,          'pval_thresh': 0.2,  'var_thresh': 0.01}\n",
    "\n",
    "train_idx = len(targets_np)\n",
    "test_idx = []\n",
    "\n",
    "\n",
    "# VARIANCE\n",
    "for omic_meta in (exp_meta, cnv_meta, met_meta):\n",
    "    omic_meta['train'] = omic_meta[train_idx]\n",
    "    omic_meta['test'] = omic_meta[test_idx]\n",
    "\n",
    "for omic_meta in (exp_meta, cnv_meta, met_meta):\n",
    "    var_sel = VarianceThreshold(omic_meta['var_thresh'])\n",
    "    omic_meta['data'] = var_sel.fit_transform(omic_meta['data'])\n",
    "    omic_meta['var_sel'] = var_sel\n",
    "\n",
    "\n",
    "# SIGNIFICANCE\n",
    "pvals = np.ones((X_train.shape[1]))\n",
    "for j in range(X_train.shape[1]):\n",
    "    pos = X_train[y_train == 1, j].ravel()\n",
    "    neg = X_train[y_train == 0, j].ravel()\n",
    "\n",
    "    with warnings.catch_warnings():\n",
    "        warnings.simplefilter(\"ignore\")\n",
    "        _, p = f_oneway(pos, neg)\n",
    "\n",
    "    pvals[j] = p\n",
    "\n",
    "pvals = np.nan_to_num(pvals, nan=1.0)\n",
    "\n",
    "for omic_meta in (exp_meta, cnv_meta, met_meta):\n",
    "    mask = np.full_like(pvals, False)\n",
    "    mask[omic_meta['idx_bnds'][0]: omic_meta['idx_bnds'][1] + 1] = True\n",
    "\n",
    "    omic_meta['sig_idx'] = np.where(\n",
    "        np.logical_and(pvals < omic_meta['pval_thresh'], mask)\n",
    "    )[0]\n",
    "    \n",
    "    print(omic_meta['sig_idx'])\n",
    "    print(len(omic_meta['sig_idx']))\n",
    "print()\n",
    "\n",
    "\n",
    "exp_meta = {'pval_thresh': 0.2,  'idx_bnds': (0, exp_np.shape[1] - 1)}\n",
    "cnv_meta = {'pval_thresh': 0.01, 'idx_bnds': (exp_meta['idx_bnds'][1] + 1, exp_meta['idx_bnds'][1] + cnv_full_np.shape[1])}\n",
    "met_meta = {'pval_thresh': 0.2,  'idx_bnds': (cnv_meta['idx_bnds'][1] + 1, cnv_meta['idx_bnds'][1] + met_np.shape[1])}\n",
    "\n",
    "\n",
    "forest = RandomForestClassifier(random_state=0, class_weight='balanced', n_jobs = -1 )\n",
    "forest.fit(X_train, y_train)\n",
    "for omic_meta in (exp_meta, cnv_meta, met_meta):\n",
    "    mask = np.full_like(pvals, False)\n",
    "    mask[omic_meta['idx_bnds'][0]: omic_meta['idx_bnds'][1] + 1] = True\n",
    "\n",
    "    omic_meta['rf_idx'] = np.where(\n",
    "        np.logical_and(forest.feature_importances_ > 0.0, mask)\n",
    "    )[0]\n",
    "\n",
    "    print(omic_meta['rf_idx'])\n",
    "    print(len(omic_meta['rf_idx']))\n",
    "print()\n",
    "\n",
    "\n",
    "# select overlap genes\n",
    "for omic_meta in (exp_meta, cnv_meta, met_meta):\n",
    "    omic_meta['intxn'] = list(set(omic_meta['sig_idx']) & set(omic_meta['rf_idx']))\n",
    "    print(omic_meta['intxn'])\n",
    "    print(len(omic_meta['intxn']))\n",
    "\n",
    "\n",
    "for omic_meta in exp_meta, cnv_meta, met_meta:\n",
    "    omic_meta['sel_train'] = X_train[:, omic_meta['intxn']]\n",
    "    omic_meta['sel_test'] = X_test[:, omic_meta['intxn']]\n",
    "    omic_meta['scaler'] = StandardScaler()\n",
    "\n",
    "    if len(omic_meta['intxn']) > 0:\n",
    "        omic_meta['sel_train'] = omic_meta['scaler'].fit_transform(omic_meta['sel_train'])\n",
    "        omic_meta['sel_test'] = omic_meta['scaler'].transform(omic_meta['sel_test'])\n",
    "\n",
    "X_train = np.concatenate((exp_meta['sel_train'], cnv_meta['sel_train'], met_meta['sel_train']), axis=1)\n",
    "X_test = np.concatenate((exp_meta['sel_test'], cnv_meta['sel_test'], met_meta['sel_test']), axis=1)\n",
    "\n",
    "# remove Highly Correlated Features from the dataset\n",
    "corr_matrix = np.abs(np.corrcoef(X_train, rowvar=False))\n",
    "upper = np.where(\n",
    "    np.logical_and(\n",
    "        corr_matrix, np.triu(np.ones(corr_matrix.shape), k=1).astype(bool)\n",
    "    ), corr_matrix, 0\n",
    ")\n",
    "\n",
    "# drop features with high similarity\n",
    "cutoff = 0.8\n",
    "to_drop = [column for column in range(upper.shape[1]) if any(upper[column] > cutoff)]\n",
    "X_train = np.delete(X_train, to_drop, axis=1)\n",
    "X_test = np.delete(X_test, to_drop, axis=1)"
   ]
  }
 ],
 "metadata": {
  "kernelspec": {
   "display_name": "Python 3.8.10 ('venv': venv)",
   "language": "python",
   "name": "python3"
  },
  "language_info": {
   "codemirror_mode": {
    "name": "ipython",
    "version": 3
   },
   "file_extension": ".py",
   "mimetype": "text/x-python",
   "name": "python",
   "nbconvert_exporter": "python",
   "pygments_lexer": "ipython3",
   "version": "3.8.10"
  },
  "orig_nbformat": 4,
  "vscode": {
   "interpreter": {
    "hash": "b26c068b141905f0ff66e080ffe7b968e548408d059de0bd8590b52b4a0c2b91"
   }
  }
 },
 "nbformat": 4,
 "nbformat_minor": 2
}
