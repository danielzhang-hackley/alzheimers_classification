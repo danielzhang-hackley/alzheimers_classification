{
 "cells": [
  {
   "cell_type": "code",
   "execution_count": 1,
   "metadata": {},
   "outputs": [],
   "source": [
    "import pandas as pd"
   ]
  },
  {
   "cell_type": "markdown",
   "metadata": {},
   "source": [
    "##### Load data"
   ]
  },
  {
   "cell_type": "code",
   "execution_count": 2,
   "metadata": {},
   "outputs": [],
   "source": [
    "well_map = pd.read_csv(r'../../raw_data/well_PTID_map.csv')\n",
    "rid_map = pd.read_csv(r'../../raw_data/RID_PTID_map.csv')\n",
    "\n",
    "well_dict = {well_map.iloc[i][\"WGS_SAMPLE_NUMBER\"]: well_map.iloc[i][\"ADNI_PTID\"] for i in range(well_map.shape[0])}\n",
    "rid_dict =  {rid_map.iloc[i][\"RID\"]:                rid_map.iloc[i][\"PTID\"]       for i in range(rid_map.shape[0])}"
   ]
  },
  {
   "cell_type": "code",
   "execution_count": 3,
   "metadata": {},
   "outputs": [],
   "source": [
    "cnv = pd.read_csv(r'../../raw_data/cnv.tsv', sep='\\t')\n",
    "expr = pd.read_csv(r'../../raw_data/gene_expression.tsv', sep='\\t')\n",
    "metab = pd.read_csv(r'../../raw_data/metabolomics.csv')\n",
    "metab_dict = pd.read_csv(r'../../raw_data/metabolomics_dict.csv')"
   ]
  },
  {
   "cell_type": "markdown",
   "metadata": {},
   "source": [
    "##### Create new dataframes with PTIDs only"
   ]
  },
  {
   "cell_type": "code",
   "execution_count": 9,
   "metadata": {},
   "outputs": [],
   "source": [
    "expr_dict = {}\n",
    "for i in range(2, len(expr.columns)):\n",
    "    expr_dict[expr.columns[i]] = expr.columns[i][1:]\n",
    "\n",
    "expr_new = expr.rename(columns=expr_dict)"
   ]
  },
  {
   "cell_type": "code",
   "execution_count": 20,
   "metadata": {},
   "outputs": [],
   "source": [
    "metab_rids = metab[\"RID\"].to_numpy()\n",
    "metab_ptids = []\n",
    "for i in range(metab_rids.shape[0]):\n",
    "    if metab_rids[i] in rid_dict.keys():\n",
    "        metab_ptids.append(rid_dict[metab_rids[i]])\n",
    "\n",
    "metab_new = metab.merge(rid_map[[\"RID\"]], how='inner', on=\"RID\").drop(columns=[\"RID\"])\n",
    "metab_new[\"PTID\"] = metab_ptids\n",
    "\n",
    "cols = metab_new.columns.tolist()\n",
    "cols.remove(\"PTID\")\n",
    "cols.insert(1, \"PTID\")\n",
    "metab_new = metab_new[cols]"
   ]
  },
  {
   "cell_type": "code",
   "execution_count": 13,
   "metadata": {},
   "outputs": [],
   "source": [
    "cnv_new = cnv.rename(columns=well_dict)"
   ]
  },
  {
   "cell_type": "markdown",
   "metadata": {},
   "source": [
    "##### Transpose data and compress feature names"
   ]
  },
  {
   "cell_type": "code",
   "execution_count": 29,
   "metadata": {},
   "outputs": [
    {
     "data": {
      "text/plain": [
       "0            SAMD7\n",
       "1           ARRDC5\n",
       "2        HIST1H2AJ\n",
       "3           C2CD4B\n",
       "4            RAB3D\n",
       "           ...    \n",
       "17844       ZYG11A\n",
       "17845       ZYG11B\n",
       "17846          ZYX\n",
       "17847        ZZEF1\n",
       "17848         ZZZ3\n",
       "Name: Symbol, Length: 17849, dtype: object"
      ]
     },
     "execution_count": 29,
     "metadata": {},
     "output_type": "execute_result"
    }
   ],
   "source": [
    "expr_new['Symbol']\n",
    "\n"
   ]
  },
  {
   "cell_type": "code",
   "execution_count": 22,
   "metadata": {},
   "outputs": [],
   "source": [
    "expr_new.to_csv(r'../../data/gene_expression.csv')\n",
    "metab_new.to_csv(r'../../data/metabolomics.csv')\n",
    "cnv_new.to_csv(r'../../data/cnv.csv')"
   ]
  }
 ],
 "metadata": {
  "kernelspec": {
   "display_name": "Python 3.8.10 ('venv': venv)",
   "language": "python",
   "name": "python3"
  },
  "language_info": {
   "codemirror_mode": {
    "name": "ipython",
    "version": 3
   },
   "file_extension": ".py",
   "mimetype": "text/x-python",
   "name": "python",
   "nbconvert_exporter": "python",
   "pygments_lexer": "ipython3",
   "version": "3.8.10"
  },
  "orig_nbformat": 4,
  "vscode": {
   "interpreter": {
    "hash": "b26c068b141905f0ff66e080ffe7b968e548408d059de0bd8590b52b4a0c2b91"
   }
  }
 },
 "nbformat": 4,
 "nbformat_minor": 2
}
